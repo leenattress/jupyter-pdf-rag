{
 "cells": [
  {
   "cell_type": "markdown",
   "metadata": {},
   "source": [
    "# Chatting with a PDF"
   ]
  },
  {
   "cell_type": "markdown",
   "metadata": {},
   "source": [
    "## Python requirements"
   ]
  },
  {
   "cell_type": "code",
   "execution_count": 77,
   "metadata": {},
   "outputs": [
    {
     "name": "stdout",
     "output_type": "stream",
     "text": [
      "Requirement already satisfied: langchain_ollama in /Users/lee.nattress/.pyenv/versions/3.10.13/lib/python3.10/site-packages (0.2.0)\n",
      "Requirement already satisfied: langchain-core<0.4.0,>=0.3.0 in /Users/lee.nattress/.pyenv/versions/3.10.13/lib/python3.10/site-packages (from langchain_ollama) (0.3.19)\n",
      "Requirement already satisfied: ollama<1,>=0.3.0 in /Users/lee.nattress/.pyenv/versions/3.10.13/lib/python3.10/site-packages (from langchain_ollama) (0.3.3)\n",
      "Requirement already satisfied: packaging<25,>=23.2 in /Users/lee.nattress/.pyenv/versions/3.10.13/lib/python3.10/site-packages (from langchain-core<0.4.0,>=0.3.0->langchain_ollama) (24.1)\n",
      "Requirement already satisfied: typing-extensions>=4.7 in /Users/lee.nattress/.pyenv/versions/3.10.13/lib/python3.10/site-packages (from langchain-core<0.4.0,>=0.3.0->langchain_ollama) (4.12.2)\n",
      "Requirement already satisfied: tenacity!=8.4.0,<10.0.0,>=8.1.0 in /Users/lee.nattress/.pyenv/versions/3.10.13/lib/python3.10/site-packages (from langchain-core<0.4.0,>=0.3.0->langchain_ollama) (9.0.0)\n",
      "Requirement already satisfied: PyYAML>=5.3 in /Users/lee.nattress/.pyenv/versions/3.10.13/lib/python3.10/site-packages (from langchain-core<0.4.0,>=0.3.0->langchain_ollama) (6.0.2)\n",
      "Requirement already satisfied: pydantic<3.0.0,>=2.5.2 in /Users/lee.nattress/.pyenv/versions/3.10.13/lib/python3.10/site-packages (from langchain-core<0.4.0,>=0.3.0->langchain_ollama) (2.9.2)\n",
      "Requirement already satisfied: langsmith<0.2.0,>=0.1.125 in /Users/lee.nattress/.pyenv/versions/3.10.13/lib/python3.10/site-packages (from langchain-core<0.4.0,>=0.3.0->langchain_ollama) (0.1.137)\n",
      "Requirement already satisfied: jsonpatch<2.0,>=1.33 in /Users/lee.nattress/.pyenv/versions/3.10.13/lib/python3.10/site-packages (from langchain-core<0.4.0,>=0.3.0->langchain_ollama) (1.33)\n",
      "Requirement already satisfied: httpx<0.28.0,>=0.27.0 in /Users/lee.nattress/.pyenv/versions/3.10.13/lib/python3.10/site-packages (from ollama<1,>=0.3.0->langchain_ollama) (0.27.2)\n",
      "Requirement already satisfied: certifi in /Users/lee.nattress/.pyenv/versions/3.10.13/lib/python3.10/site-packages (from httpx<0.28.0,>=0.27.0->ollama<1,>=0.3.0->langchain_ollama) (2024.8.30)\n",
      "Requirement already satisfied: idna in /Users/lee.nattress/.pyenv/versions/3.10.13/lib/python3.10/site-packages (from httpx<0.28.0,>=0.27.0->ollama<1,>=0.3.0->langchain_ollama) (3.10)\n",
      "Requirement already satisfied: httpcore==1.* in /Users/lee.nattress/.pyenv/versions/3.10.13/lib/python3.10/site-packages (from httpx<0.28.0,>=0.27.0->ollama<1,>=0.3.0->langchain_ollama) (1.0.6)\n",
      "Requirement already satisfied: sniffio in /Users/lee.nattress/.pyenv/versions/3.10.13/lib/python3.10/site-packages (from httpx<0.28.0,>=0.27.0->ollama<1,>=0.3.0->langchain_ollama) (1.3.1)\n",
      "Requirement already satisfied: anyio in /Users/lee.nattress/.pyenv/versions/3.10.13/lib/python3.10/site-packages (from httpx<0.28.0,>=0.27.0->ollama<1,>=0.3.0->langchain_ollama) (4.6.2.post1)\n",
      "Requirement already satisfied: h11<0.15,>=0.13 in /Users/lee.nattress/.pyenv/versions/3.10.13/lib/python3.10/site-packages (from httpcore==1.*->httpx<0.28.0,>=0.27.0->ollama<1,>=0.3.0->langchain_ollama) (0.14.0)\n",
      "Requirement already satisfied: jsonpointer>=1.9 in /Users/lee.nattress/.pyenv/versions/3.10.13/lib/python3.10/site-packages (from jsonpatch<2.0,>=1.33->langchain-core<0.4.0,>=0.3.0->langchain_ollama) (3.0.0)\n",
      "Requirement already satisfied: requests<3,>=2 in /Users/lee.nattress/.pyenv/versions/3.10.13/lib/python3.10/site-packages (from langsmith<0.2.0,>=0.1.125->langchain-core<0.4.0,>=0.3.0->langchain_ollama) (2.32.3)\n",
      "Requirement already satisfied: requests-toolbelt<2.0.0,>=1.0.0 in /Users/lee.nattress/.pyenv/versions/3.10.13/lib/python3.10/site-packages (from langsmith<0.2.0,>=0.1.125->langchain-core<0.4.0,>=0.3.0->langchain_ollama) (1.0.0)\n",
      "Requirement already satisfied: orjson<4.0.0,>=3.9.14 in /Users/lee.nattress/.pyenv/versions/3.10.13/lib/python3.10/site-packages (from langsmith<0.2.0,>=0.1.125->langchain-core<0.4.0,>=0.3.0->langchain_ollama) (3.10.10)\n",
      "Requirement already satisfied: pydantic-core==2.23.4 in /Users/lee.nattress/.pyenv/versions/3.10.13/lib/python3.10/site-packages (from pydantic<3.0.0,>=2.5.2->langchain-core<0.4.0,>=0.3.0->langchain_ollama) (2.23.4)\n",
      "Requirement already satisfied: annotated-types>=0.6.0 in /Users/lee.nattress/.pyenv/versions/3.10.13/lib/python3.10/site-packages (from pydantic<3.0.0,>=2.5.2->langchain-core<0.4.0,>=0.3.0->langchain_ollama) (0.7.0)\n",
      "Requirement already satisfied: urllib3<3,>=1.21.1 in /Users/lee.nattress/.pyenv/versions/3.10.13/lib/python3.10/site-packages (from requests<3,>=2->langsmith<0.2.0,>=0.1.125->langchain-core<0.4.0,>=0.3.0->langchain_ollama) (2.2.3)\n",
      "Requirement already satisfied: charset-normalizer<4,>=2 in /Users/lee.nattress/.pyenv/versions/3.10.13/lib/python3.10/site-packages (from requests<3,>=2->langsmith<0.2.0,>=0.1.125->langchain-core<0.4.0,>=0.3.0->langchain_ollama) (3.4.0)\n",
      "Requirement already satisfied: exceptiongroup>=1.0.2 in /Users/lee.nattress/.pyenv/versions/3.10.13/lib/python3.10/site-packages (from anyio->httpx<0.28.0,>=0.27.0->ollama<1,>=0.3.0->langchain_ollama) (1.2.2)\n",
      "\n",
      "\u001b[1m[\u001b[0m\u001b[34;49mnotice\u001b[0m\u001b[1;39;49m]\u001b[0m\u001b[39;49m A new release of pip is available: \u001b[0m\u001b[31;49m23.0.1\u001b[0m\u001b[39;49m -> \u001b[0m\u001b[32;49m24.3.1\u001b[0m\n",
      "\u001b[1m[\u001b[0m\u001b[34;49mnotice\u001b[0m\u001b[1;39;49m]\u001b[0m\u001b[39;49m To update, run: \u001b[0m\u001b[32;49mpip install --upgrade pip\u001b[0m\n",
      "Note: you may need to restart the kernel to use updated packages.\n",
      "Requirement already satisfied: langchain_core in /Users/lee.nattress/.pyenv/versions/3.10.13/lib/python3.10/site-packages (0.3.19)\n",
      "Requirement already satisfied: pydantic<3.0.0,>=2.5.2 in /Users/lee.nattress/.pyenv/versions/3.10.13/lib/python3.10/site-packages (from langchain_core) (2.9.2)\n",
      "Requirement already satisfied: tenacity!=8.4.0,<10.0.0,>=8.1.0 in /Users/lee.nattress/.pyenv/versions/3.10.13/lib/python3.10/site-packages (from langchain_core) (9.0.0)\n",
      "Requirement already satisfied: typing-extensions>=4.7 in /Users/lee.nattress/.pyenv/versions/3.10.13/lib/python3.10/site-packages (from langchain_core) (4.12.2)\n",
      "Requirement already satisfied: PyYAML>=5.3 in /Users/lee.nattress/.pyenv/versions/3.10.13/lib/python3.10/site-packages (from langchain_core) (6.0.2)\n",
      "Requirement already satisfied: jsonpatch<2.0,>=1.33 in /Users/lee.nattress/.pyenv/versions/3.10.13/lib/python3.10/site-packages (from langchain_core) (1.33)\n",
      "Requirement already satisfied: packaging<25,>=23.2 in /Users/lee.nattress/.pyenv/versions/3.10.13/lib/python3.10/site-packages (from langchain_core) (24.1)\n",
      "Requirement already satisfied: langsmith<0.2.0,>=0.1.125 in /Users/lee.nattress/.pyenv/versions/3.10.13/lib/python3.10/site-packages (from langchain_core) (0.1.137)\n",
      "Requirement already satisfied: jsonpointer>=1.9 in /Users/lee.nattress/.pyenv/versions/3.10.13/lib/python3.10/site-packages (from jsonpatch<2.0,>=1.33->langchain_core) (3.0.0)\n",
      "Requirement already satisfied: requests-toolbelt<2.0.0,>=1.0.0 in /Users/lee.nattress/.pyenv/versions/3.10.13/lib/python3.10/site-packages (from langsmith<0.2.0,>=0.1.125->langchain_core) (1.0.0)\n",
      "Requirement already satisfied: requests<3,>=2 in /Users/lee.nattress/.pyenv/versions/3.10.13/lib/python3.10/site-packages (from langsmith<0.2.0,>=0.1.125->langchain_core) (2.32.3)\n",
      "Requirement already satisfied: httpx<1,>=0.23.0 in /Users/lee.nattress/.pyenv/versions/3.10.13/lib/python3.10/site-packages (from langsmith<0.2.0,>=0.1.125->langchain_core) (0.27.2)\n",
      "Requirement already satisfied: orjson<4.0.0,>=3.9.14 in /Users/lee.nattress/.pyenv/versions/3.10.13/lib/python3.10/site-packages (from langsmith<0.2.0,>=0.1.125->langchain_core) (3.10.10)\n",
      "Requirement already satisfied: pydantic-core==2.23.4 in /Users/lee.nattress/.pyenv/versions/3.10.13/lib/python3.10/site-packages (from pydantic<3.0.0,>=2.5.2->langchain_core) (2.23.4)\n",
      "Requirement already satisfied: annotated-types>=0.6.0 in /Users/lee.nattress/.pyenv/versions/3.10.13/lib/python3.10/site-packages (from pydantic<3.0.0,>=2.5.2->langchain_core) (0.7.0)\n",
      "Requirement already satisfied: httpcore==1.* in /Users/lee.nattress/.pyenv/versions/3.10.13/lib/python3.10/site-packages (from httpx<1,>=0.23.0->langsmith<0.2.0,>=0.1.125->langchain_core) (1.0.6)\n",
      "Requirement already satisfied: certifi in /Users/lee.nattress/.pyenv/versions/3.10.13/lib/python3.10/site-packages (from httpx<1,>=0.23.0->langsmith<0.2.0,>=0.1.125->langchain_core) (2024.8.30)\n",
      "Requirement already satisfied: anyio in /Users/lee.nattress/.pyenv/versions/3.10.13/lib/python3.10/site-packages (from httpx<1,>=0.23.0->langsmith<0.2.0,>=0.1.125->langchain_core) (4.6.2.post1)\n",
      "Requirement already satisfied: idna in /Users/lee.nattress/.pyenv/versions/3.10.13/lib/python3.10/site-packages (from httpx<1,>=0.23.0->langsmith<0.2.0,>=0.1.125->langchain_core) (3.10)\n",
      "Requirement already satisfied: sniffio in /Users/lee.nattress/.pyenv/versions/3.10.13/lib/python3.10/site-packages (from httpx<1,>=0.23.0->langsmith<0.2.0,>=0.1.125->langchain_core) (1.3.1)\n",
      "Requirement already satisfied: h11<0.15,>=0.13 in /Users/lee.nattress/.pyenv/versions/3.10.13/lib/python3.10/site-packages (from httpcore==1.*->httpx<1,>=0.23.0->langsmith<0.2.0,>=0.1.125->langchain_core) (0.14.0)\n",
      "Requirement already satisfied: charset-normalizer<4,>=2 in /Users/lee.nattress/.pyenv/versions/3.10.13/lib/python3.10/site-packages (from requests<3,>=2->langsmith<0.2.0,>=0.1.125->langchain_core) (3.4.0)\n",
      "Requirement already satisfied: urllib3<3,>=1.21.1 in /Users/lee.nattress/.pyenv/versions/3.10.13/lib/python3.10/site-packages (from requests<3,>=2->langsmith<0.2.0,>=0.1.125->langchain_core) (2.2.3)\n",
      "Requirement already satisfied: exceptiongroup>=1.0.2 in /Users/lee.nattress/.pyenv/versions/3.10.13/lib/python3.10/site-packages (from anyio->httpx<1,>=0.23.0->langsmith<0.2.0,>=0.1.125->langchain_core) (1.2.2)\n",
      "\n",
      "\u001b[1m[\u001b[0m\u001b[34;49mnotice\u001b[0m\u001b[1;39;49m]\u001b[0m\u001b[39;49m A new release of pip is available: \u001b[0m\u001b[31;49m23.0.1\u001b[0m\u001b[39;49m -> \u001b[0m\u001b[32;49m24.3.1\u001b[0m\n",
      "\u001b[1m[\u001b[0m\u001b[34;49mnotice\u001b[0m\u001b[1;39;49m]\u001b[0m\u001b[39;49m To update, run: \u001b[0m\u001b[32;49mpip install --upgrade pip\u001b[0m\n",
      "Note: you may need to restart the kernel to use updated packages.\n",
      "Requirement already satisfied: langchain_text_splitters in /Users/lee.nattress/.pyenv/versions/3.10.13/lib/python3.10/site-packages (0.3.0)\n",
      "Requirement already satisfied: langchain-core<0.4.0,>=0.3.0 in /Users/lee.nattress/.pyenv/versions/3.10.13/lib/python3.10/site-packages (from langchain_text_splitters) (0.3.19)\n",
      "Requirement already satisfied: pydantic<3.0.0,>=2.5.2 in /Users/lee.nattress/.pyenv/versions/3.10.13/lib/python3.10/site-packages (from langchain-core<0.4.0,>=0.3.0->langchain_text_splitters) (2.9.2)\n",
      "Requirement already satisfied: jsonpatch<2.0,>=1.33 in /Users/lee.nattress/.pyenv/versions/3.10.13/lib/python3.10/site-packages (from langchain-core<0.4.0,>=0.3.0->langchain_text_splitters) (1.33)\n",
      "Requirement already satisfied: PyYAML>=5.3 in /Users/lee.nattress/.pyenv/versions/3.10.13/lib/python3.10/site-packages (from langchain-core<0.4.0,>=0.3.0->langchain_text_splitters) (6.0.2)\n",
      "Requirement already satisfied: packaging<25,>=23.2 in /Users/lee.nattress/.pyenv/versions/3.10.13/lib/python3.10/site-packages (from langchain-core<0.4.0,>=0.3.0->langchain_text_splitters) (24.1)\n",
      "Requirement already satisfied: tenacity!=8.4.0,<10.0.0,>=8.1.0 in /Users/lee.nattress/.pyenv/versions/3.10.13/lib/python3.10/site-packages (from langchain-core<0.4.0,>=0.3.0->langchain_text_splitters) (9.0.0)\n",
      "Requirement already satisfied: typing-extensions>=4.7 in /Users/lee.nattress/.pyenv/versions/3.10.13/lib/python3.10/site-packages (from langchain-core<0.4.0,>=0.3.0->langchain_text_splitters) (4.12.2)\n",
      "Requirement already satisfied: langsmith<0.2.0,>=0.1.125 in /Users/lee.nattress/.pyenv/versions/3.10.13/lib/python3.10/site-packages (from langchain-core<0.4.0,>=0.3.0->langchain_text_splitters) (0.1.137)\n",
      "Requirement already satisfied: jsonpointer>=1.9 in /Users/lee.nattress/.pyenv/versions/3.10.13/lib/python3.10/site-packages (from jsonpatch<2.0,>=1.33->langchain-core<0.4.0,>=0.3.0->langchain_text_splitters) (3.0.0)\n",
      "Requirement already satisfied: requests-toolbelt<2.0.0,>=1.0.0 in /Users/lee.nattress/.pyenv/versions/3.10.13/lib/python3.10/site-packages (from langsmith<0.2.0,>=0.1.125->langchain-core<0.4.0,>=0.3.0->langchain_text_splitters) (1.0.0)\n",
      "Requirement already satisfied: requests<3,>=2 in /Users/lee.nattress/.pyenv/versions/3.10.13/lib/python3.10/site-packages (from langsmith<0.2.0,>=0.1.125->langchain-core<0.4.0,>=0.3.0->langchain_text_splitters) (2.32.3)\n",
      "Requirement already satisfied: orjson<4.0.0,>=3.9.14 in /Users/lee.nattress/.pyenv/versions/3.10.13/lib/python3.10/site-packages (from langsmith<0.2.0,>=0.1.125->langchain-core<0.4.0,>=0.3.0->langchain_text_splitters) (3.10.10)\n",
      "Requirement already satisfied: httpx<1,>=0.23.0 in /Users/lee.nattress/.pyenv/versions/3.10.13/lib/python3.10/site-packages (from langsmith<0.2.0,>=0.1.125->langchain-core<0.4.0,>=0.3.0->langchain_text_splitters) (0.27.2)\n",
      "Requirement already satisfied: pydantic-core==2.23.4 in /Users/lee.nattress/.pyenv/versions/3.10.13/lib/python3.10/site-packages (from pydantic<3.0.0,>=2.5.2->langchain-core<0.4.0,>=0.3.0->langchain_text_splitters) (2.23.4)\n",
      "Requirement already satisfied: annotated-types>=0.6.0 in /Users/lee.nattress/.pyenv/versions/3.10.13/lib/python3.10/site-packages (from pydantic<3.0.0,>=2.5.2->langchain-core<0.4.0,>=0.3.0->langchain_text_splitters) (0.7.0)\n",
      "Requirement already satisfied: anyio in /Users/lee.nattress/.pyenv/versions/3.10.13/lib/python3.10/site-packages (from httpx<1,>=0.23.0->langsmith<0.2.0,>=0.1.125->langchain-core<0.4.0,>=0.3.0->langchain_text_splitters) (4.6.2.post1)\n",
      "Requirement already satisfied: sniffio in /Users/lee.nattress/.pyenv/versions/3.10.13/lib/python3.10/site-packages (from httpx<1,>=0.23.0->langsmith<0.2.0,>=0.1.125->langchain-core<0.4.0,>=0.3.0->langchain_text_splitters) (1.3.1)\n",
      "Requirement already satisfied: certifi in /Users/lee.nattress/.pyenv/versions/3.10.13/lib/python3.10/site-packages (from httpx<1,>=0.23.0->langsmith<0.2.0,>=0.1.125->langchain-core<0.4.0,>=0.3.0->langchain_text_splitters) (2024.8.30)\n",
      "Requirement already satisfied: httpcore==1.* in /Users/lee.nattress/.pyenv/versions/3.10.13/lib/python3.10/site-packages (from httpx<1,>=0.23.0->langsmith<0.2.0,>=0.1.125->langchain-core<0.4.0,>=0.3.0->langchain_text_splitters) (1.0.6)\n",
      "Requirement already satisfied: idna in /Users/lee.nattress/.pyenv/versions/3.10.13/lib/python3.10/site-packages (from httpx<1,>=0.23.0->langsmith<0.2.0,>=0.1.125->langchain-core<0.4.0,>=0.3.0->langchain_text_splitters) (3.10)\n",
      "Requirement already satisfied: h11<0.15,>=0.13 in /Users/lee.nattress/.pyenv/versions/3.10.13/lib/python3.10/site-packages (from httpcore==1.*->httpx<1,>=0.23.0->langsmith<0.2.0,>=0.1.125->langchain-core<0.4.0,>=0.3.0->langchain_text_splitters) (0.14.0)\n",
      "Requirement already satisfied: charset-normalizer<4,>=2 in /Users/lee.nattress/.pyenv/versions/3.10.13/lib/python3.10/site-packages (from requests<3,>=2->langsmith<0.2.0,>=0.1.125->langchain-core<0.4.0,>=0.3.0->langchain_text_splitters) (3.4.0)\n",
      "Requirement already satisfied: urllib3<3,>=1.21.1 in /Users/lee.nattress/.pyenv/versions/3.10.13/lib/python3.10/site-packages (from requests<3,>=2->langsmith<0.2.0,>=0.1.125->langchain-core<0.4.0,>=0.3.0->langchain_text_splitters) (2.2.3)\n",
      "Requirement already satisfied: exceptiongroup>=1.0.2 in /Users/lee.nattress/.pyenv/versions/3.10.13/lib/python3.10/site-packages (from anyio->httpx<1,>=0.23.0->langsmith<0.2.0,>=0.1.125->langchain-core<0.4.0,>=0.3.0->langchain_text_splitters) (1.2.2)\n",
      "\n",
      "\u001b[1m[\u001b[0m\u001b[34;49mnotice\u001b[0m\u001b[1;39;49m]\u001b[0m\u001b[39;49m A new release of pip is available: \u001b[0m\u001b[31;49m23.0.1\u001b[0m\u001b[39;49m -> \u001b[0m\u001b[32;49m24.3.1\u001b[0m\n",
      "\u001b[1m[\u001b[0m\u001b[34;49mnotice\u001b[0m\u001b[1;39;49m]\u001b[0m\u001b[39;49m To update, run: \u001b[0m\u001b[32;49mpip install --upgrade pip\u001b[0m\n",
      "Note: you may need to restart the kernel to use updated packages.\n",
      "Requirement already satisfied: langchain_community in /Users/lee.nattress/.pyenv/versions/3.10.13/lib/python3.10/site-packages (0.3.7)\n",
      "Requirement already satisfied: langchain<0.4.0,>=0.3.7 in /Users/lee.nattress/.pyenv/versions/3.10.13/lib/python3.10/site-packages (from langchain_community) (0.3.7)\n",
      "Requirement already satisfied: numpy<2,>=1 in /Users/lee.nattress/.pyenv/versions/3.10.13/lib/python3.10/site-packages (from langchain_community) (1.26.4)\n",
      "Requirement already satisfied: requests<3,>=2 in /Users/lee.nattress/.pyenv/versions/3.10.13/lib/python3.10/site-packages (from langchain_community) (2.32.3)\n",
      "Requirement already satisfied: SQLAlchemy<2.0.36,>=1.4 in /Users/lee.nattress/.pyenv/versions/3.10.13/lib/python3.10/site-packages (from langchain_community) (2.0.35)\n",
      "Requirement already satisfied: pydantic-settings<3.0.0,>=2.4.0 in /Users/lee.nattress/.pyenv/versions/3.10.13/lib/python3.10/site-packages (from langchain_community) (2.6.0)\n",
      "Requirement already satisfied: dataclasses-json<0.7,>=0.5.7 in /Users/lee.nattress/.pyenv/versions/3.10.13/lib/python3.10/site-packages (from langchain_community) (0.6.7)\n",
      "Requirement already satisfied: aiohttp<4.0.0,>=3.8.3 in /Users/lee.nattress/.pyenv/versions/3.10.13/lib/python3.10/site-packages (from langchain_community) (3.10.10)\n",
      "Requirement already satisfied: langchain-core<0.4.0,>=0.3.17 in /Users/lee.nattress/.pyenv/versions/3.10.13/lib/python3.10/site-packages (from langchain_community) (0.3.19)\n",
      "Requirement already satisfied: tenacity!=8.4.0,<10,>=8.1.0 in /Users/lee.nattress/.pyenv/versions/3.10.13/lib/python3.10/site-packages (from langchain_community) (9.0.0)\n",
      "Requirement already satisfied: langsmith<0.2.0,>=0.1.125 in /Users/lee.nattress/.pyenv/versions/3.10.13/lib/python3.10/site-packages (from langchain_community) (0.1.137)\n",
      "Requirement already satisfied: PyYAML>=5.3 in /Users/lee.nattress/.pyenv/versions/3.10.13/lib/python3.10/site-packages (from langchain_community) (6.0.2)\n",
      "Requirement already satisfied: httpx-sse<0.5.0,>=0.4.0 in /Users/lee.nattress/.pyenv/versions/3.10.13/lib/python3.10/site-packages (from langchain_community) (0.4.0)\n",
      "Requirement already satisfied: frozenlist>=1.1.1 in /Users/lee.nattress/.pyenv/versions/3.10.13/lib/python3.10/site-packages (from aiohttp<4.0.0,>=3.8.3->langchain_community) (1.5.0)\n",
      "Requirement already satisfied: yarl<2.0,>=1.12.0 in /Users/lee.nattress/.pyenv/versions/3.10.13/lib/python3.10/site-packages (from aiohttp<4.0.0,>=3.8.3->langchain_community) (1.16.0)\n",
      "Requirement already satisfied: async-timeout<5.0,>=4.0 in /Users/lee.nattress/.pyenv/versions/3.10.13/lib/python3.10/site-packages (from aiohttp<4.0.0,>=3.8.3->langchain_community) (4.0.3)\n",
      "Requirement already satisfied: aiosignal>=1.1.2 in /Users/lee.nattress/.pyenv/versions/3.10.13/lib/python3.10/site-packages (from aiohttp<4.0.0,>=3.8.3->langchain_community) (1.3.1)\n",
      "Requirement already satisfied: attrs>=17.3.0 in /Users/lee.nattress/.pyenv/versions/3.10.13/lib/python3.10/site-packages (from aiohttp<4.0.0,>=3.8.3->langchain_community) (24.2.0)\n",
      "Requirement already satisfied: aiohappyeyeballs>=2.3.0 in /Users/lee.nattress/.pyenv/versions/3.10.13/lib/python3.10/site-packages (from aiohttp<4.0.0,>=3.8.3->langchain_community) (2.4.3)\n",
      "Requirement already satisfied: multidict<7.0,>=4.5 in /Users/lee.nattress/.pyenv/versions/3.10.13/lib/python3.10/site-packages (from aiohttp<4.0.0,>=3.8.3->langchain_community) (6.1.0)\n",
      "Requirement already satisfied: typing-inspect<1,>=0.4.0 in /Users/lee.nattress/.pyenv/versions/3.10.13/lib/python3.10/site-packages (from dataclasses-json<0.7,>=0.5.7->langchain_community) (0.9.0)\n",
      "Requirement already satisfied: marshmallow<4.0.0,>=3.18.0 in /Users/lee.nattress/.pyenv/versions/3.10.13/lib/python3.10/site-packages (from dataclasses-json<0.7,>=0.5.7->langchain_community) (3.23.0)\n",
      "Requirement already satisfied: langchain-text-splitters<0.4.0,>=0.3.0 in /Users/lee.nattress/.pyenv/versions/3.10.13/lib/python3.10/site-packages (from langchain<0.4.0,>=0.3.7->langchain_community) (0.3.0)\n",
      "Requirement already satisfied: pydantic<3.0.0,>=2.7.4 in /Users/lee.nattress/.pyenv/versions/3.10.13/lib/python3.10/site-packages (from langchain<0.4.0,>=0.3.7->langchain_community) (2.9.2)\n",
      "Requirement already satisfied: typing-extensions>=4.7 in /Users/lee.nattress/.pyenv/versions/3.10.13/lib/python3.10/site-packages (from langchain-core<0.4.0,>=0.3.17->langchain_community) (4.12.2)\n",
      "Requirement already satisfied: jsonpatch<2.0,>=1.33 in /Users/lee.nattress/.pyenv/versions/3.10.13/lib/python3.10/site-packages (from langchain-core<0.4.0,>=0.3.17->langchain_community) (1.33)\n",
      "Requirement already satisfied: packaging<25,>=23.2 in /Users/lee.nattress/.pyenv/versions/3.10.13/lib/python3.10/site-packages (from langchain-core<0.4.0,>=0.3.17->langchain_community) (24.1)\n",
      "Requirement already satisfied: orjson<4.0.0,>=3.9.14 in /Users/lee.nattress/.pyenv/versions/3.10.13/lib/python3.10/site-packages (from langsmith<0.2.0,>=0.1.125->langchain_community) (3.10.10)\n",
      "Requirement already satisfied: requests-toolbelt<2.0.0,>=1.0.0 in /Users/lee.nattress/.pyenv/versions/3.10.13/lib/python3.10/site-packages (from langsmith<0.2.0,>=0.1.125->langchain_community) (1.0.0)\n",
      "Requirement already satisfied: httpx<1,>=0.23.0 in /Users/lee.nattress/.pyenv/versions/3.10.13/lib/python3.10/site-packages (from langsmith<0.2.0,>=0.1.125->langchain_community) (0.27.2)\n",
      "Requirement already satisfied: python-dotenv>=0.21.0 in /Users/lee.nattress/.pyenv/versions/3.10.13/lib/python3.10/site-packages (from pydantic-settings<3.0.0,>=2.4.0->langchain_community) (1.0.1)\n",
      "Requirement already satisfied: certifi>=2017.4.17 in /Users/lee.nattress/.pyenv/versions/3.10.13/lib/python3.10/site-packages (from requests<3,>=2->langchain_community) (2024.8.30)\n",
      "Requirement already satisfied: charset-normalizer<4,>=2 in /Users/lee.nattress/.pyenv/versions/3.10.13/lib/python3.10/site-packages (from requests<3,>=2->langchain_community) (3.4.0)\n",
      "Requirement already satisfied: urllib3<3,>=1.21.1 in /Users/lee.nattress/.pyenv/versions/3.10.13/lib/python3.10/site-packages (from requests<3,>=2->langchain_community) (2.2.3)\n",
      "Requirement already satisfied: idna<4,>=2.5 in /Users/lee.nattress/.pyenv/versions/3.10.13/lib/python3.10/site-packages (from requests<3,>=2->langchain_community) (3.10)\n",
      "Requirement already satisfied: httpcore==1.* in /Users/lee.nattress/.pyenv/versions/3.10.13/lib/python3.10/site-packages (from httpx<1,>=0.23.0->langsmith<0.2.0,>=0.1.125->langchain_community) (1.0.6)\n",
      "Requirement already satisfied: sniffio in /Users/lee.nattress/.pyenv/versions/3.10.13/lib/python3.10/site-packages (from httpx<1,>=0.23.0->langsmith<0.2.0,>=0.1.125->langchain_community) (1.3.1)\n",
      "Requirement already satisfied: anyio in /Users/lee.nattress/.pyenv/versions/3.10.13/lib/python3.10/site-packages (from httpx<1,>=0.23.0->langsmith<0.2.0,>=0.1.125->langchain_community) (4.6.2.post1)\n",
      "Requirement already satisfied: h11<0.15,>=0.13 in /Users/lee.nattress/.pyenv/versions/3.10.13/lib/python3.10/site-packages (from httpcore==1.*->httpx<1,>=0.23.0->langsmith<0.2.0,>=0.1.125->langchain_community) (0.14.0)\n",
      "Requirement already satisfied: jsonpointer>=1.9 in /Users/lee.nattress/.pyenv/versions/3.10.13/lib/python3.10/site-packages (from jsonpatch<2.0,>=1.33->langchain-core<0.4.0,>=0.3.17->langchain_community) (3.0.0)\n",
      "Requirement already satisfied: pydantic-core==2.23.4 in /Users/lee.nattress/.pyenv/versions/3.10.13/lib/python3.10/site-packages (from pydantic<3.0.0,>=2.7.4->langchain<0.4.0,>=0.3.7->langchain_community) (2.23.4)\n",
      "Requirement already satisfied: annotated-types>=0.6.0 in /Users/lee.nattress/.pyenv/versions/3.10.13/lib/python3.10/site-packages (from pydantic<3.0.0,>=2.7.4->langchain<0.4.0,>=0.3.7->langchain_community) (0.7.0)\n",
      "Requirement already satisfied: mypy-extensions>=0.3.0 in /Users/lee.nattress/.pyenv/versions/3.10.13/lib/python3.10/site-packages (from typing-inspect<1,>=0.4.0->dataclasses-json<0.7,>=0.5.7->langchain_community) (1.0.0)\n",
      "Requirement already satisfied: propcache>=0.2.0 in /Users/lee.nattress/.pyenv/versions/3.10.13/lib/python3.10/site-packages (from yarl<2.0,>=1.12.0->aiohttp<4.0.0,>=3.8.3->langchain_community) (0.2.0)\n",
      "Requirement already satisfied: exceptiongroup>=1.0.2 in /Users/lee.nattress/.pyenv/versions/3.10.13/lib/python3.10/site-packages (from anyio->httpx<1,>=0.23.0->langsmith<0.2.0,>=0.1.125->langchain_community) (1.2.2)\n",
      "\n",
      "\u001b[1m[\u001b[0m\u001b[34;49mnotice\u001b[0m\u001b[1;39;49m]\u001b[0m\u001b[39;49m A new release of pip is available: \u001b[0m\u001b[31;49m23.0.1\u001b[0m\u001b[39;49m -> \u001b[0m\u001b[32;49m24.3.1\u001b[0m\n",
      "\u001b[1m[\u001b[0m\u001b[34;49mnotice\u001b[0m\u001b[1;39;49m]\u001b[0m\u001b[39;49m To update, run: \u001b[0m\u001b[32;49mpip install --upgrade pip\u001b[0m\n",
      "Note: you may need to restart the kernel to use updated packages.\n",
      "Requirement already satisfied: unstructured in /Users/lee.nattress/.pyenv/versions/3.10.13/lib/python3.10/site-packages (0.16.5)\n",
      "Requirement already satisfied: emoji in /Users/lee.nattress/.pyenv/versions/3.10.13/lib/python3.10/site-packages (from unstructured) (2.14.0)\n",
      "Requirement already satisfied: filetype in /Users/lee.nattress/.pyenv/versions/3.10.13/lib/python3.10/site-packages (from unstructured) (1.2.0)\n",
      "Requirement already satisfied: numpy<2 in /Users/lee.nattress/.pyenv/versions/3.10.13/lib/python3.10/site-packages (from unstructured) (1.26.4)\n",
      "Requirement already satisfied: rapidfuzz in /Users/lee.nattress/.pyenv/versions/3.10.13/lib/python3.10/site-packages (from unstructured) (3.10.1)\n",
      "Requirement already satisfied: python-iso639 in /Users/lee.nattress/.pyenv/versions/3.10.13/lib/python3.10/site-packages (from unstructured) (2024.10.22)\n",
      "Requirement already satisfied: typing-extensions in /Users/lee.nattress/.pyenv/versions/3.10.13/lib/python3.10/site-packages (from unstructured) (4.12.2)\n",
      "Requirement already satisfied: langdetect in /Users/lee.nattress/.pyenv/versions/3.10.13/lib/python3.10/site-packages (from unstructured) (1.0.9)\n",
      "Requirement already satisfied: dataclasses-json in /Users/lee.nattress/.pyenv/versions/3.10.13/lib/python3.10/site-packages (from unstructured) (0.6.7)\n",
      "Requirement already satisfied: wrapt in /Users/lee.nattress/.pyenv/versions/3.10.13/lib/python3.10/site-packages (from unstructured) (1.16.0)\n",
      "Requirement already satisfied: nltk in /Users/lee.nattress/.pyenv/versions/3.10.13/lib/python3.10/site-packages (from unstructured) (3.9.1)\n",
      "Requirement already satisfied: chardet in /Users/lee.nattress/.pyenv/versions/3.10.13/lib/python3.10/site-packages (from unstructured) (5.2.0)\n",
      "Requirement already satisfied: python-magic in /Users/lee.nattress/.pyenv/versions/3.10.13/lib/python3.10/site-packages (from unstructured) (0.4.27)\n",
      "Requirement already satisfied: psutil in /Users/lee.nattress/.pyenv/versions/3.10.13/lib/python3.10/site-packages (from unstructured) (6.0.0)\n",
      "Requirement already satisfied: beautifulsoup4 in /Users/lee.nattress/.pyenv/versions/3.10.13/lib/python3.10/site-packages (from unstructured) (4.12.3)\n",
      "Requirement already satisfied: html5lib in /Users/lee.nattress/.pyenv/versions/3.10.13/lib/python3.10/site-packages (from unstructured) (1.1)\n",
      "Requirement already satisfied: lxml in /Users/lee.nattress/.pyenv/versions/3.10.13/lib/python3.10/site-packages (from unstructured) (4.9.4)\n",
      "Requirement already satisfied: backoff in /Users/lee.nattress/.pyenv/versions/3.10.13/lib/python3.10/site-packages (from unstructured) (2.2.1)\n",
      "Requirement already satisfied: tqdm in /Users/lee.nattress/.pyenv/versions/3.10.13/lib/python3.10/site-packages (from unstructured) (4.66.5)\n",
      "Requirement already satisfied: python-oxmsg in /Users/lee.nattress/.pyenv/versions/3.10.13/lib/python3.10/site-packages (from unstructured) (0.0.1)\n",
      "Requirement already satisfied: requests in /Users/lee.nattress/.pyenv/versions/3.10.13/lib/python3.10/site-packages (from unstructured) (2.32.3)\n",
      "Requirement already satisfied: unstructured-client in /Users/lee.nattress/.pyenv/versions/3.10.13/lib/python3.10/site-packages (from unstructured) (0.27.0)\n",
      "Requirement already satisfied: soupsieve>1.2 in /Users/lee.nattress/.pyenv/versions/3.10.13/lib/python3.10/site-packages (from beautifulsoup4->unstructured) (2.6)\n",
      "Requirement already satisfied: marshmallow<4.0.0,>=3.18.0 in /Users/lee.nattress/.pyenv/versions/3.10.13/lib/python3.10/site-packages (from dataclasses-json->unstructured) (3.23.0)\n",
      "Requirement already satisfied: typing-inspect<1,>=0.4.0 in /Users/lee.nattress/.pyenv/versions/3.10.13/lib/python3.10/site-packages (from dataclasses-json->unstructured) (0.9.0)\n",
      "Requirement already satisfied: six>=1.9 in /Users/lee.nattress/.pyenv/versions/3.10.13/lib/python3.10/site-packages (from html5lib->unstructured) (1.16.0)\n",
      "Requirement already satisfied: webencodings in /Users/lee.nattress/.pyenv/versions/3.10.13/lib/python3.10/site-packages (from html5lib->unstructured) (0.5.1)\n",
      "Requirement already satisfied: joblib in /Users/lee.nattress/.pyenv/versions/3.10.13/lib/python3.10/site-packages (from nltk->unstructured) (1.4.2)\n",
      "Requirement already satisfied: regex>=2021.8.3 in /Users/lee.nattress/.pyenv/versions/3.10.13/lib/python3.10/site-packages (from nltk->unstructured) (2024.9.11)\n",
      "Requirement already satisfied: click in /Users/lee.nattress/.pyenv/versions/3.10.13/lib/python3.10/site-packages (from nltk->unstructured) (8.1.7)\n",
      "Requirement already satisfied: olefile in /Users/lee.nattress/.pyenv/versions/3.10.13/lib/python3.10/site-packages (from python-oxmsg->unstructured) (0.47)\n",
      "Requirement already satisfied: certifi>=2017.4.17 in /Users/lee.nattress/.pyenv/versions/3.10.13/lib/python3.10/site-packages (from requests->unstructured) (2024.8.30)\n",
      "Requirement already satisfied: charset-normalizer<4,>=2 in /Users/lee.nattress/.pyenv/versions/3.10.13/lib/python3.10/site-packages (from requests->unstructured) (3.4.0)\n",
      "Requirement already satisfied: idna<4,>=2.5 in /Users/lee.nattress/.pyenv/versions/3.10.13/lib/python3.10/site-packages (from requests->unstructured) (3.10)\n",
      "Requirement already satisfied: urllib3<3,>=1.21.1 in /Users/lee.nattress/.pyenv/versions/3.10.13/lib/python3.10/site-packages (from requests->unstructured) (2.2.3)\n",
      "Requirement already satisfied: cryptography>=3.1 in /Users/lee.nattress/.pyenv/versions/3.10.13/lib/python3.10/site-packages (from unstructured-client->unstructured) (43.0.3)\n",
      "Requirement already satisfied: requests-toolbelt>=1.0.0 in /Users/lee.nattress/.pyenv/versions/3.10.13/lib/python3.10/site-packages (from unstructured-client->unstructured) (1.0.0)\n",
      "Requirement already satisfied: eval-type-backport<0.3.0,>=0.2.0 in /Users/lee.nattress/.pyenv/versions/3.10.13/lib/python3.10/site-packages (from unstructured-client->unstructured) (0.2.0)\n",
      "Requirement already satisfied: httpx>=0.27.0 in /Users/lee.nattress/.pyenv/versions/3.10.13/lib/python3.10/site-packages (from unstructured-client->unstructured) (0.27.2)\n",
      "Requirement already satisfied: python-dateutil==2.8.2 in /Users/lee.nattress/.pyenv/versions/3.10.13/lib/python3.10/site-packages (from unstructured-client->unstructured) (2.8.2)\n",
      "Requirement already satisfied: nest-asyncio>=1.6.0 in /Users/lee.nattress/.pyenv/versions/3.10.13/lib/python3.10/site-packages (from unstructured-client->unstructured) (1.6.0)\n",
      "Requirement already satisfied: pypdf>=4.0 in /Users/lee.nattress/.pyenv/versions/3.10.13/lib/python3.10/site-packages (from unstructured-client->unstructured) (5.1.0)\n",
      "Requirement already satisfied: jsonpath-python<2.0.0,>=1.0.6 in /Users/lee.nattress/.pyenv/versions/3.10.13/lib/python3.10/site-packages (from unstructured-client->unstructured) (1.0.6)\n",
      "Requirement already satisfied: pydantic<2.10.0,>=2.9.2 in /Users/lee.nattress/.pyenv/versions/3.10.13/lib/python3.10/site-packages (from unstructured-client->unstructured) (2.9.2)\n",
      "Requirement already satisfied: cffi>=1.12 in /Users/lee.nattress/.pyenv/versions/3.10.13/lib/python3.10/site-packages (from cryptography>=3.1->unstructured-client->unstructured) (1.17.1)\n",
      "Requirement already satisfied: httpcore==1.* in /Users/lee.nattress/.pyenv/versions/3.10.13/lib/python3.10/site-packages (from httpx>=0.27.0->unstructured-client->unstructured) (1.0.6)\n",
      "Requirement already satisfied: anyio in /Users/lee.nattress/.pyenv/versions/3.10.13/lib/python3.10/site-packages (from httpx>=0.27.0->unstructured-client->unstructured) (4.6.2.post1)\n",
      "Requirement already satisfied: sniffio in /Users/lee.nattress/.pyenv/versions/3.10.13/lib/python3.10/site-packages (from httpx>=0.27.0->unstructured-client->unstructured) (1.3.1)\n",
      "Requirement already satisfied: h11<0.15,>=0.13 in /Users/lee.nattress/.pyenv/versions/3.10.13/lib/python3.10/site-packages (from httpcore==1.*->httpx>=0.27.0->unstructured-client->unstructured) (0.14.0)\n",
      "Requirement already satisfied: packaging>=17.0 in /Users/lee.nattress/.pyenv/versions/3.10.13/lib/python3.10/site-packages (from marshmallow<4.0.0,>=3.18.0->dataclasses-json->unstructured) (24.1)\n",
      "Requirement already satisfied: annotated-types>=0.6.0 in /Users/lee.nattress/.pyenv/versions/3.10.13/lib/python3.10/site-packages (from pydantic<2.10.0,>=2.9.2->unstructured-client->unstructured) (0.7.0)\n",
      "Requirement already satisfied: pydantic-core==2.23.4 in /Users/lee.nattress/.pyenv/versions/3.10.13/lib/python3.10/site-packages (from pydantic<2.10.0,>=2.9.2->unstructured-client->unstructured) (2.23.4)\n",
      "Requirement already satisfied: mypy-extensions>=0.3.0 in /Users/lee.nattress/.pyenv/versions/3.10.13/lib/python3.10/site-packages (from typing-inspect<1,>=0.4.0->dataclasses-json->unstructured) (1.0.0)\n",
      "Requirement already satisfied: pycparser in /Users/lee.nattress/.pyenv/versions/3.10.13/lib/python3.10/site-packages (from cffi>=1.12->cryptography>=3.1->unstructured-client->unstructured) (2.22)\n",
      "Requirement already satisfied: exceptiongroup>=1.0.2 in /Users/lee.nattress/.pyenv/versions/3.10.13/lib/python3.10/site-packages (from anyio->httpx>=0.27.0->unstructured-client->unstructured) (1.2.2)\n",
      "\n",
      "\u001b[1m[\u001b[0m\u001b[34;49mnotice\u001b[0m\u001b[1;39;49m]\u001b[0m\u001b[39;49m A new release of pip is available: \u001b[0m\u001b[31;49m23.0.1\u001b[0m\u001b[39;49m -> \u001b[0m\u001b[32;49m24.3.1\u001b[0m\n",
      "\u001b[1m[\u001b[0m\u001b[34;49mnotice\u001b[0m\u001b[1;39;49m]\u001b[0m\u001b[39;49m To update, run: \u001b[0m\u001b[32;49mpip install --upgrade pip\u001b[0m\n",
      "Note: you may need to restart the kernel to use updated packages.\n",
      "Requirement already satisfied: PyPDF2 in /Users/lee.nattress/.pyenv/versions/3.10.13/lib/python3.10/site-packages (3.0.1)\n",
      "\n",
      "\u001b[1m[\u001b[0m\u001b[34;49mnotice\u001b[0m\u001b[1;39;49m]\u001b[0m\u001b[39;49m A new release of pip is available: \u001b[0m\u001b[31;49m23.0.1\u001b[0m\u001b[39;49m -> \u001b[0m\u001b[32;49m24.3.1\u001b[0m\n",
      "\u001b[1m[\u001b[0m\u001b[34;49mnotice\u001b[0m\u001b[1;39;49m]\u001b[0m\u001b[39;49m To update, run: \u001b[0m\u001b[32;49mpip install --upgrade pip\u001b[0m\n",
      "Note: you may need to restart the kernel to use updated packages.\n"
     ]
    }
   ],
   "source": [
    "%pip install langchain_ollama\n",
    "%pip install langchain_core\n",
    "%pip install langchain_text_splitters\n",
    "%pip install langchain_community\n",
    "%pip install unstructured\n",
    "%pip install PyPDF2"
   ]
  },
  {
   "cell_type": "markdown",
   "metadata": {},
   "source": [
    "## Setup some imports"
   ]
  },
  {
   "cell_type": "code",
   "execution_count": 78,
   "metadata": {},
   "outputs": [],
   "source": [
    "# Imports\n",
    "from langchain_ollama import OllamaEmbeddings\n",
    "from langchain_text_splitters import RecursiveCharacterTextSplitter\n",
    "from langchain_community.vectorstores import Chroma\n",
    "from langchain.prompts import ChatPromptTemplate, PromptTemplate\n",
    "from langchain_core.output_parsers import StrOutputParser\n",
    "from langchain_ollama.chat_models import ChatOllama\n",
    "from langchain_core.runnables import RunnablePassthrough\n",
    "from langchain.retrievers.multi_query import MultiQueryRetriever\n",
    "\n",
    "# Suppress warnings\n",
    "import warnings\n",
    "warnings.filterwarnings('ignore')\n",
    "\n",
    "# Jupyter-specific imports\n",
    "from IPython.display import display, Markdown\n",
    "\n",
    "# Set environment variable for protobuf\n",
    "import os\n",
    "os.environ[\"PROTOCOL_BUFFERS_PYTHON_IMPLEMENTATION\"] = \"python\""
   ]
  },
  {
   "cell_type": "markdown",
   "metadata": {},
   "source": [
    "## Read the PDF into memory"
   ]
  },
  {
   "cell_type": "code",
   "execution_count": 79,
   "metadata": {},
   "outputs": [
    {
     "name": "stdout",
     "output_type": "stream",
     "text": [
      "PDF loaded successfully: penta.pdf\n"
     ]
    }
   ],
   "source": [
    "from PyPDF2 import PdfReader\n",
    "\n",
    "# Load PDF\n",
    "local_path = \"penta.pdf\"\n",
    "if local_path:\n",
    "    reader = PdfReader(local_path)\n",
    "    data = [page.extract_text() for page in reader.pages]\n",
    "    print(f\"PDF loaded successfully: {local_path}\")\n",
    "else:\n",
    "    print(\"Upload a PDF file\")"
   ]
  },
  {
   "cell_type": "markdown",
   "metadata": {},
   "source": [
    "## Split the PDF"
   ]
  },
  {
   "cell_type": "code",
   "execution_count": 80,
   "metadata": {},
   "outputs": [
    {
     "name": "stdout",
     "output_type": "stream",
     "text": [
      "Text split into 76 chunks\n"
     ]
    }
   ],
   "source": [
    "from langchain.docstore.document import Document\n",
    "\n",
    "# Wrap each page's text in a Document object\n",
    "documents = [Document(page_content=page) for page in data]\n",
    "\n",
    "# Split text into chunks\n",
    "text_splitter = RecursiveCharacterTextSplitter(chunk_size=1000, chunk_overlap=200)\n",
    "chunks = text_splitter.split_documents(documents)  # Use the wrapped documents\n",
    "print(f\"Text split into {len(chunks)} chunks\")"
   ]
  },
  {
   "cell_type": "markdown",
   "metadata": {},
   "source": [
    "## Pull some models"
   ]
  },
  {
   "cell_type": "code",
   "execution_count": 81,
   "metadata": {},
   "outputs": [
    {
     "name": "stdout",
     "output_type": "stream",
     "text": [
      "\u001b[?25lpulling manifest ⠋ \u001b[?25h\u001b[?25l\u001b[2K\u001b[1Gpulling manifest ⠙ \u001b[?25h\u001b[?25l\u001b[2K\u001b[1Gpulling manifest ⠹ \u001b[?25h\u001b[?25l\u001b[2K\u001b[1Gpulling manifest ⠸ \u001b[?25h\u001b[?25l\u001b[2K\u001b[1Gpulling manifest ⠼ \u001b[?25h\u001b[?25l\u001b[2K\u001b[1Gpulling manifest ⠴ \u001b[?25h\u001b[?25l\u001b[2K\u001b[1Gpulling manifest \n",
      "pulling 970aa74c0a90... 100% ▕████████████████▏ 274 MB                         \n",
      "pulling c71d239df917... 100% ▕████████████████▏  11 KB                         \n",
      "pulling ce4a164fc046... 100% ▕████████████████▏   17 B                         \n",
      "pulling 31df23ea7daa... 100% ▕████████████████▏  420 B                         \n",
      "verifying sha256 digest \n",
      "writing manifest \n",
      "success \u001b[?25h\n",
      "\u001b[?25lpulling manifest ⠋ \u001b[?25h\u001b[?25l\u001b[2K\u001b[1Gpulling manifest ⠙ \u001b[?25h\u001b[?25l\u001b[2K\u001b[1Gpulling manifest ⠹ \u001b[?25h\u001b[?25l\u001b[2K\u001b[1Gpulling manifest ⠸ \u001b[?25h\u001b[?25l\u001b[2K\u001b[1Gpulling manifest ⠼ \u001b[?25h\u001b[?25l\u001b[2K\u001b[1Gpulling manifest \n",
      "pulling dde5aa3fc5ff... 100% ▕████████████████▏ 2.0 GB                         \n",
      "pulling 966de95ca8a6... 100% ▕████████████████▏ 1.4 KB                         \n",
      "pulling fcc5a6bec9da... 100% ▕████████████████▏ 7.7 KB                         \n",
      "pulling a70ff7e570d9... 100% ▕████████████████▏ 6.0 KB                         \n",
      "pulling 56bb8bd477a5... 100% ▕████████████████▏   96 B                         \n",
      "pulling 34bb5ab01051... 100% ▕████████████████▏  561 B                         \n",
      "verifying sha256 digest \n",
      "writing manifest \n",
      "success \u001b[?25h\n"
     ]
    }
   ],
   "source": [
    "!ollama pull nomic-embed-text\n",
    "!ollama pull llama3.2"
   ]
  },
  {
   "cell_type": "markdown",
   "metadata": {},
   "source": [
    "## Store the pages in a vector DB"
   ]
  },
  {
   "cell_type": "code",
   "execution_count": 82,
   "metadata": {},
   "outputs": [
    {
     "name": "stdout",
     "output_type": "stream",
     "text": [
      "Vector database created successfully\n"
     ]
    }
   ],
   "source": [
    "# Create vector database\n",
    "vector_db = Chroma.from_documents(\n",
    "    documents=chunks,\n",
    "    embedding=OllamaEmbeddings(model=\"nomic-embed-text\"),\n",
    "    collection_name=\"local-rag\"\n",
    ")\n",
    "print(\"Vector database created successfully\")"
   ]
  },
  {
   "cell_type": "markdown",
   "metadata": {},
   "source": [
    "## Setup the langchain"
   ]
  },
  {
   "cell_type": "code",
   "execution_count": 83,
   "metadata": {},
   "outputs": [],
   "source": [
    "# Set up LLM and retrieval\n",
    "local_model = \"llama3.2\"  # or whichever model you prefer\n",
    "llm = ChatOllama(model=local_model)\n",
    "\n",
    "# Query prompt template\n",
    "QUERY_PROMPT = PromptTemplate(\n",
    "    input_variables=[\"question\"],\n",
    "    template=\"\"\"You are an AI language model assistant. Your task is to generate 2\n",
    "    different versions of the given user question to retrieve relevant documents from\n",
    "    a vector database. By generating multiple perspectives on the user question, your\n",
    "    goal is to help the user overcome some of the limitations of the distance-based\n",
    "    similarity search. Provide these alternative questions separated by newlines.\n",
    "    Original question: {question}\"\"\",\n",
    ")\n",
    "\n",
    "# Set up retriever\n",
    "retriever = MultiQueryRetriever.from_llm(\n",
    "    vector_db.as_retriever(), \n",
    "    llm,\n",
    "    prompt=QUERY_PROMPT\n",
    ")\n",
    "\n",
    "# RAG prompt template\n",
    "template = \"\"\"Answer the question based ONLY on the following context:\n",
    "{context}\n",
    "Question: {question}\n",
    "\"\"\"\n",
    "\n",
    "prompt = ChatPromptTemplate.from_template(template)\n",
    "\n",
    "# Create chain\n",
    "chain = (\n",
    "    {\"context\": retriever, \"question\": RunnablePassthrough()}\n",
    "    | prompt\n",
    "    | llm\n",
    "    | StrOutputParser()\n",
    ")\n",
    "\n",
    "def chat(question):\n",
    "    \"\"\"\n",
    "    Chat with the PDF using the RAG chain.\n",
    "    \"\"\"\n",
    "    return display(Markdown(chain.invoke(question)))"
   ]
  },
  {
   "cell_type": "markdown",
   "metadata": {},
   "source": [
    "## Ask some questions"
   ]
  },
  {
   "cell_type": "code",
   "execution_count": 84,
   "metadata": {},
   "outputs": [
    {
     "data": {
      "text/markdown": [
       "The main idea of this document appears to be an explanation and breakdown of a simplified model called PENTA, which is used to describe and analyze 5 basic conflicting forces in any system. The PENTA model consists of Scope, Values, Efficiency, Resources, and Designs, and each component is further explained with its own definitions and examples."
      ],
      "text/plain": [
       "<IPython.core.display.Markdown object>"
      ]
     },
     "metadata": {},
     "output_type": "display_data"
    }
   ],
   "source": [
    "# Example 1\n",
    "chat(\"What is the main idea of this document?\")"
   ]
  },
  {
   "cell_type": "code",
   "execution_count": 89,
   "metadata": {},
   "outputs": [
    {
     "data": {
      "text/markdown": [
       "Based on the provided context, here are the explicit steps to get started with implementing the Penta Model:\n",
       "\n",
       "**Step 1: Identify and Document Current Scope**\n",
       "\n",
       "* Determine the specified set of stakeholder- and system-functions (what it must do) and constraints (what it must not do).\n",
       "* Draw a border around the given system.\n",
       "* Write down the current scope in detail.\n",
       "\n",
       "**Step 2: Define Values**\n",
       "\n",
       "* Identify the specified set of stakeholder values (\"wants\", \"needs\", \"wishes\", \"visions\") and system qualities, including system performance attributes (\"potential values\" for stakeholders).\n",
       "* Document these values clearly and concisely.\n",
       "\n",
       "**Step 3: Assess Efficiency**\n",
       "\n",
       "* Calculate the current effectiveness-to-costs ratio.\n",
       "* Include all stakeholder-values actually delivered in the calculation.\n",
       "* Note down the life-cycle costs (not just \"capital\" costs).\n",
       "\n",
       "**Step 4: Prioritize Resources**\n",
       "\n",
       "* Identify any critical and prioritized set of limited resources for the system lifecycle (e.g., time, money, people, space).\n",
       "* Document these resources clearly.\n",
       "\n",
       "**Step 5: Analyze Interconnectedness**\n",
       "\n",
       "* Consider how changes to one Penta requirement could influence other requirements (positively, negatively, or dynamically unpredictable ways).\n",
       "* Identify potential trade-offs and areas of interconnectedness.\n",
       "\n",
       "**Step 6: Determine Priorities**\n",
       "\n",
       "* Decide on the priority level for each Penta requirement based on stakeholder values and system performance attributes.\n",
       "* Consider adjusting other Penta requirements or Designs to support the prioritization.\n",
       "\n",
       "**Step 7: Create a Clear and Detailed Penta Requirement**\n",
       "\n",
       "* Write down the Penta requirement in clear and concise language using Planguage [CE] logic and specification.\n",
       "* Ensure that the requirement is well-defined and easy to understand.\n",
       "\n",
       "**Step 8: Review and Refine**\n",
       "\n",
       "* Review the Penta model and requirements for clarity and consistency.\n",
       "* Refine the model as needed to ensure it accurately represents the system's needs and constraints."
      ],
      "text/plain": [
       "<IPython.core.display.Markdown object>"
      ]
     },
     "metadata": {},
     "output_type": "display_data"
    }
   ],
   "source": [
    "# Example 2\n",
    "chat(\"How can we get start implementing the penta model? be explicit in the steps.\")"
   ]
  },
  {
   "cell_type": "code",
   "execution_count": 86,
   "metadata": {},
   "outputs": [
    {
     "data": {
      "text/markdown": [
       "There are no explicit contradictions or problems mentioned in the provided context. However, it is acknowledged that \"there are some real limits to what is actually possible in the real world for products, services and process efficiency\" (Reality Limits). This implies that there may be limitations to the effectiveness of the Penta model in achieving optimal balance.\n",
       "\n",
       "Additionally, it is noted that changing one Penta requirement can have unpredictable effects on other requirements, both positive and negative (Interconnectedness), which could potentially lead to problems if not managed carefully.\n",
       "\n",
       "However, these limitations are framed as challenges to be addressed through the use of the Penta model rather than as inherent contradictions or problems with the model itself."
      ],
      "text/plain": [
       "<IPython.core.display.Markdown object>"
      ]
     },
     "metadata": {},
     "output_type": "display_data"
    }
   ],
   "source": [
    "# Example 3\n",
    "chat(\"Are there any contradictions or problems with the penta model?\")"
   ]
  },
  {
   "cell_type": "code",
   "execution_count": 87,
   "metadata": {},
   "outputs": [
    {
     "data": {
      "text/markdown": [
       "Based on the provided context, it appears that the Penta Model might not directly \"cause\" problems in an organization, but rather provide a framework for managing risks and conflicts. However, some potential issues that could arise from implementing or relying heavily on the Penta Model include:\n",
       "\n",
       "1. Overemphasis on analysis: The Penta Model's focus on explicit connection of all related components, synergistic planning, and incremental change might lead to an overemphasis on analysis at the expense of practical implementation.\n",
       "2. Complexity: The model's complexity and use of specialized terminology (e.g., \"Penta Forces,\" \"Planguage\") might create barriers for non-technical stakeholders or team members who are not familiar with these concepts.\n",
       "3. Over-engineering: The emphasis on systems engineering perspective, numerical specification of values and resources, and numeric engineering logic might lead to over-engineering or analysis paralysis, where teams become too focused on optimizing every aspect of the system rather than delivering a viable product.\n",
       "4. Inflexibility: The Penta Model's structure and constraints (e.g., the five Quints, explicit incremental change) might make it difficult for teams to adapt to changing requirements or unexpected problems that arise during development.\n",
       "5. Dependence on data quality: The model's reliance on accurate measurement of values and resources, as well as continuous feedback adjustment, requires high-quality data to be effective. Poor data quality or inadequate feedback mechanisms might hinder the model's ability to provide useful insights.\n",
       "\n",
       "It is essential to note that these potential issues can be mitigated by carefully selecting team members, providing adequate training and support, and ensuring that the Penta Model is used in conjunction with other complementary methodologies and tools."
      ],
      "text/plain": [
       "<IPython.core.display.Markdown object>"
      ]
     },
     "metadata": {},
     "output_type": "display_data"
    }
   ],
   "source": [
    "# Example 3\n",
    "chat(\"What problems might the penta model cause in my organisation?\")"
   ]
  },
  {
   "cell_type": "code",
   "execution_count": 92,
   "metadata": {},
   "outputs": [
    {
     "data": {
      "text/markdown": [
       "Based solely on the provided context, here are three potential ideas for expanding the Penta Model:\n",
       "\n",
       "1. **Incorporate Emotional and Social Aspects**: The current Penta Model focuses on Values, Resources, Designs, and interconnectedness. Expanding it to include emotional and social aspects could provide a more comprehensive understanding of innovation and stakeholder values. This could involve incorporating variables such as emotional well-being, social impact, or community engagement.\n",
       "\n",
       "2. **Integrate Machine Learning and Predictive Analytics**: The Penta Model uses logic and specification to inform tradeoff decisions and prioritize requirements. Expanding it to incorporate machine learning algorithms and predictive analytics could enable the model to better anticipate and mitigate potential issues, or identify new opportunities for innovation.\n",
       "\n",
       "3. **Encompassing Contextual Factors**: The current Penta Model assumes a fixed set of requirements and designs. Expanding it to account for contextual factors such as environmental sustainability, cultural sensitivity, or regulatory compliance could provide a more nuanced understanding of the complex interactions within systems. This could involve incorporating variables such as environmental impact or social responsibility into the model.\n",
       "\n",
       "These ideas are speculative and based solely on the provided context. A more in-depth analysis of the Penta Model and its underlying principles would be necessary to determine their feasibility and potential for expansion."
      ],
      "text/plain": [
       "<IPython.core.display.Markdown object>"
      ]
     },
     "metadata": {},
     "output_type": "display_data"
    }
   ],
   "source": [
    "chat(\"Do you have any ideas on how to expand the penta model? Give three.\")"
   ]
  }
 ],
 "metadata": {
  "kernelspec": {
   "display_name": "Python 3",
   "language": "python",
   "name": "python3"
  },
  "language_info": {
   "codemirror_mode": {
    "name": "ipython",
    "version": 3
   },
   "file_extension": ".py",
   "mimetype": "text/x-python",
   "name": "python",
   "nbconvert_exporter": "python",
   "pygments_lexer": "ipython3",
   "version": "3.10.13"
  }
 },
 "nbformat": 4,
 "nbformat_minor": 2
}
